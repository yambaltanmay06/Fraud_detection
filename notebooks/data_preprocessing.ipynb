{
 "cells": [
  {
   "cell_type": "code",
   "execution_count": 1,
   "id": "c510dabd",
   "metadata": {},
   "outputs": [],
   "source": [
    "# 1. Import Libraries\n",
    "import pandas as pd\n",
    "import numpy as np\n",
    "from sklearn.preprocessing import StandardScaler\n",
    "from sklearn.model_selection import train_test_split\n",
    "from imblearn.over_sampling import SMOTE\n",
    "from imblearn.under_sampling import RandomUnderSampler"
   ]
  },
  {
   "cell_type": "code",
   "execution_count": 2,
   "id": "c331ddb1",
   "metadata": {},
   "outputs": [],
   "source": [
    "# 2. Load the Dataset\n",
    "df = pd.read_csv(\"C://Users//yamba//OneDrive//Desktop//project//data//creditcard.csv\")"
   ]
  },
  {
   "cell_type": "code",
   "execution_count": 3,
   "id": "79ad89f0",
   "metadata": {},
   "outputs": [],
   "source": [
    "# 3. Feature Selection\n",
    "# Dropping the 'Time' column as it's not relevant for the model (unless you want to try using it)\n",
    "df = df.drop(['Time'], axis=1)"
   ]
  },
  {
   "cell_type": "code",
   "execution_count": 4,
   "id": "961c65a3",
   "metadata": {},
   "outputs": [],
   "source": [
    "# 4. Split into Features and Target Variable\n",
    "X = df.drop(['Class'], axis=1)  # All features except 'Class'\n",
    "y = df['Class']  # Target variable"
   ]
  },
  {
   "cell_type": "code",
   "execution_count": 5,
   "id": "328a9551",
   "metadata": {},
   "outputs": [],
   "source": [
    "# 5. Handle Class Imbalance using SMOTE or Random Undersampling\n",
    "# Option 1: SMOTE (Synthetic Minority Over-sampling Technique)\n",
    "smote = SMOTE(random_state=42)\n",
    "X_resampled, y_resampled = smote.fit_resample(X, y)"
   ]
  },
  {
   "cell_type": "code",
   "execution_count": 6,
   "id": "3b2592eb",
   "metadata": {},
   "outputs": [
    {
     "name": "stdout",
     "output_type": "stream",
     "text": [
      "\n",
      "Class distribution after resampling:\n",
      "Class\n",
      "0    284315\n",
      "1    284315\n",
      "Name: count, dtype: int64\n"
     ]
    }
   ],
   "source": [
    "print(\"\\nClass distribution after resampling:\")\n",
    "print(pd.Series(y_resampled).value_counts())"
   ]
  },
  {
   "cell_type": "code",
   "execution_count": 7,
   "id": "4ad98344",
   "metadata": {},
   "outputs": [],
   "source": [
    "# 6. Feature Scaling (Standardization)\n",
    "scaler = StandardScaler()\n",
    "X_scaled = scaler.fit_transform(X_resampled)"
   ]
  },
  {
   "cell_type": "code",
   "execution_count": 8,
   "id": "6ad3f736",
   "metadata": {},
   "outputs": [],
   "source": [
    "# 7. Train-Test Split (80% train, 20% test)\n",
    "X_train, X_test, y_train, y_test = train_test_split(X_scaled, y_resampled, test_size=0.2, random_state=42)"
   ]
  },
  {
   "cell_type": "code",
   "execution_count": 9,
   "id": "9bf6357e",
   "metadata": {},
   "outputs": [
    {
     "name": "stdout",
     "output_type": "stream",
     "text": [
      "\n",
      "Train and Test Data Shapes:\n",
      "X_train shape: (454904, 29)\n",
      "X_test shape: (113726, 29)\n",
      "y_train shape: (454904,)\n",
      "y_test shape: (113726,)\n"
     ]
    }
   ],
   "source": [
    "print(\"\\nTrain and Test Data Shapes:\")\n",
    "print(\"X_train shape:\", X_train.shape)\n",
    "print(\"X_test shape:\", X_test.shape)\n",
    "print(\"y_train shape:\", y_train.shape)\n",
    "print(\"y_test shape:\", y_test.shape)"
   ]
  },
  {
   "cell_type": "code",
   "execution_count": 10,
   "id": "ce5e1eb2",
   "metadata": {},
   "outputs": [],
   "source": [
    "# Save processed data (Optional)\n",
    "np.save('X_train.npy', X_train)\n",
    "np.save('X_test.npy', X_test)\n",
    "np.save('y_train.npy', y_train)\n",
    "np.save('y_test.npy', y_test)"
   ]
  }
 ],
 "metadata": {
  "kernelspec": {
   "display_name": "base",
   "language": "python",
   "name": "python3"
  },
  "language_info": {
   "codemirror_mode": {
    "name": "ipython",
    "version": 3
   },
   "file_extension": ".py",
   "mimetype": "text/x-python",
   "name": "python",
   "nbconvert_exporter": "python",
   "pygments_lexer": "ipython3",
   "version": "3.12.7"
  }
 },
 "nbformat": 4,
 "nbformat_minor": 5
}
